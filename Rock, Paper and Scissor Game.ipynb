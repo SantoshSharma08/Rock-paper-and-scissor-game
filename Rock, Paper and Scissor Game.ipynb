{
 "cells": [
  {
   "cell_type": "code",
   "execution_count": null,
   "id": "bbbeffd2",
   "metadata": {},
   "outputs": [],
   "source": [
    "import random\n",
    "\n",
    "user_choice = input(\"Enter Rock, Paper, or Scissors: \")\n",
    "options = [\"rock\", \"paper\", \"scissors\"]\n",
    "computer_choice = random.choice(options)\n",
    "if user_choice == \"rock\" and computer_choice == \"scissors\":\n",
    "    print(\"You win! Rock beats scissors.\")\n",
    "elif user_choice == \"scissors\" and computer_choice == \"paper\":\n",
    "    print(\"You win! Scissors beat paper.\")\n",
    "elif user_choice == \"paper\" and computer_choice == \"rock\":\n",
    "    print(\"You win! Paper beats rock.\")\n",
    "elif user_choice == computer_choice:\n",
    "    print(\"It's a tie!\")\n",
    "else:\n",
    "    print(\"You lose! \" + computer_choice + \" beats \" + user_choice + \".\")"
   ]
  },
  {
   "cell_type": "code",
   "execution_count": null,
   "id": "ae2f2aee",
   "metadata": {},
   "outputs": [],
   "source": []
  },
  {
   "cell_type": "code",
   "execution_count": null,
   "id": "1d04b101",
   "metadata": {},
   "outputs": [],
   "source": []
  }
 ],
 "metadata": {
  "kernelspec": {
   "display_name": "Python 3 (ipykernel)",
   "language": "python",
   "name": "python3"
  },
  "language_info": {
   "codemirror_mode": {
    "name": "ipython",
    "version": 3
   },
   "file_extension": ".py",
   "mimetype": "text/x-python",
   "name": "python",
   "nbconvert_exporter": "python",
   "pygments_lexer": "ipython3",
   "version": "3.11.3"
  }
 },
 "nbformat": 4,
 "nbformat_minor": 5
}
